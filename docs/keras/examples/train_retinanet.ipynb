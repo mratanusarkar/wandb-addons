{
  "nbformat": 4,
  "nbformat_minor": 0,
  "metadata": {
    "colab": {
      "provenance": [],
      "machine_shape": "hm",
      "gpuType": "T4",
      "authorship_tag": "ABX9TyNT7jPQJQ7SUd7u1nBOvOH8",
      "include_colab_link": true
    },
    "kernelspec": {
      "name": "python3",
      "display_name": "Python 3"
    },
    "language_info": {
      "name": "python"
    },
    "accelerator": "GPU",
    "widgets": {
      "application/vnd.jupyter.widget-state+json": {
        "4e4efab2790e4ae791ec1e7ad90d6591": {
          "model_module": "@jupyter-widgets/controls",
          "model_name": "HBoxModel",
          "model_module_version": "1.5.0",
          "state": {
            "_dom_classes": [],
            "_model_module": "@jupyter-widgets/controls",
            "_model_module_version": "1.5.0",
            "_model_name": "HBoxModel",
            "_view_count": null,
            "_view_module": "@jupyter-widgets/controls",
            "_view_module_version": "1.5.0",
            "_view_name": "HBoxView",
            "box_style": "",
            "children": [
              "IPY_MODEL_1a78eed1bb3e436cbd61cb29e2065352",
              "IPY_MODEL_ea308de85b9144bc84354c037bd1ac41",
              "IPY_MODEL_c69cb02deb504b999bd157472fded2c1"
            ],
            "layout": "IPY_MODEL_e48958a9638f4f1eaed837ca22cbcdfa"
          }
        },
        "1a78eed1bb3e436cbd61cb29e2065352": {
          "model_module": "@jupyter-widgets/controls",
          "model_name": "HTMLModel",
          "model_module_version": "1.5.0",
          "state": {
            "_dom_classes": [],
            "_model_module": "@jupyter-widgets/controls",
            "_model_module_version": "1.5.0",
            "_model_name": "HTMLModel",
            "_view_count": null,
            "_view_module": "@jupyter-widgets/controls",
            "_view_module_version": "1.5.0",
            "_view_name": "HTMLView",
            "description": "",
            "description_tooltip": null,
            "layout": "IPY_MODEL_7271e2d0dbba45d1be8f05ac6857d766",
            "placeholder": "​",
            "style": "IPY_MODEL_6c7ddfa0fc924c51b0ea0f052ff00367",
            "value": "100%"
          }
        },
        "ea308de85b9144bc84354c037bd1ac41": {
          "model_module": "@jupyter-widgets/controls",
          "model_name": "FloatProgressModel",
          "model_module_version": "1.5.0",
          "state": {
            "_dom_classes": [],
            "_model_module": "@jupyter-widgets/controls",
            "_model_module_version": "1.5.0",
            "_model_name": "FloatProgressModel",
            "_view_count": null,
            "_view_module": "@jupyter-widgets/controls",
            "_view_module_version": "1.5.0",
            "_view_name": "ProgressView",
            "bar_style": "success",
            "description": "",
            "description_tooltip": null,
            "layout": "IPY_MODEL_7500c2b8190c43c28f79f22547e6b143",
            "max": 1,
            "min": 0,
            "orientation": "horizontal",
            "style": "IPY_MODEL_ebec714bcf7540baaae26d23e383300b",
            "value": 1
          }
        },
        "c69cb02deb504b999bd157472fded2c1": {
          "model_module": "@jupyter-widgets/controls",
          "model_name": "HTMLModel",
          "model_module_version": "1.5.0",
          "state": {
            "_dom_classes": [],
            "_model_module": "@jupyter-widgets/controls",
            "_model_module_version": "1.5.0",
            "_model_name": "HTMLModel",
            "_view_count": null,
            "_view_module": "@jupyter-widgets/controls",
            "_view_module_version": "1.5.0",
            "_view_name": "HTMLView",
            "description": "",
            "description_tooltip": null,
            "layout": "IPY_MODEL_7ba5300be77a4e039ba5b8172b4e4a46",
            "placeholder": "​",
            "style": "IPY_MODEL_3fa5f257e70643f4b6359f7aa5d49a1f",
            "value": " 1/1 [00:04&lt;00:00,  4.00s/it]"
          }
        },
        "e48958a9638f4f1eaed837ca22cbcdfa": {
          "model_module": "@jupyter-widgets/base",
          "model_name": "LayoutModel",
          "model_module_version": "1.2.0",
          "state": {
            "_model_module": "@jupyter-widgets/base",
            "_model_module_version": "1.2.0",
            "_model_name": "LayoutModel",
            "_view_count": null,
            "_view_module": "@jupyter-widgets/base",
            "_view_module_version": "1.2.0",
            "_view_name": "LayoutView",
            "align_content": null,
            "align_items": null,
            "align_self": null,
            "border": null,
            "bottom": null,
            "display": null,
            "flex": null,
            "flex_flow": null,
            "grid_area": null,
            "grid_auto_columns": null,
            "grid_auto_flow": null,
            "grid_auto_rows": null,
            "grid_column": null,
            "grid_gap": null,
            "grid_row": null,
            "grid_template_areas": null,
            "grid_template_columns": null,
            "grid_template_rows": null,
            "height": null,
            "justify_content": null,
            "justify_items": null,
            "left": null,
            "margin": null,
            "max_height": null,
            "max_width": null,
            "min_height": null,
            "min_width": null,
            "object_fit": null,
            "object_position": null,
            "order": null,
            "overflow": null,
            "overflow_x": null,
            "overflow_y": null,
            "padding": null,
            "right": null,
            "top": null,
            "visibility": null,
            "width": null
          }
        },
        "7271e2d0dbba45d1be8f05ac6857d766": {
          "model_module": "@jupyter-widgets/base",
          "model_name": "LayoutModel",
          "model_module_version": "1.2.0",
          "state": {
            "_model_module": "@jupyter-widgets/base",
            "_model_module_version": "1.2.0",
            "_model_name": "LayoutModel",
            "_view_count": null,
            "_view_module": "@jupyter-widgets/base",
            "_view_module_version": "1.2.0",
            "_view_name": "LayoutView",
            "align_content": null,
            "align_items": null,
            "align_self": null,
            "border": null,
            "bottom": null,
            "display": null,
            "flex": null,
            "flex_flow": null,
            "grid_area": null,
            "grid_auto_columns": null,
            "grid_auto_flow": null,
            "grid_auto_rows": null,
            "grid_column": null,
            "grid_gap": null,
            "grid_row": null,
            "grid_template_areas": null,
            "grid_template_columns": null,
            "grid_template_rows": null,
            "height": null,
            "justify_content": null,
            "justify_items": null,
            "left": null,
            "margin": null,
            "max_height": null,
            "max_width": null,
            "min_height": null,
            "min_width": null,
            "object_fit": null,
            "object_position": null,
            "order": null,
            "overflow": null,
            "overflow_x": null,
            "overflow_y": null,
            "padding": null,
            "right": null,
            "top": null,
            "visibility": null,
            "width": null
          }
        },
        "6c7ddfa0fc924c51b0ea0f052ff00367": {
          "model_module": "@jupyter-widgets/controls",
          "model_name": "DescriptionStyleModel",
          "model_module_version": "1.5.0",
          "state": {
            "_model_module": "@jupyter-widgets/controls",
            "_model_module_version": "1.5.0",
            "_model_name": "DescriptionStyleModel",
            "_view_count": null,
            "_view_module": "@jupyter-widgets/base",
            "_view_module_version": "1.2.0",
            "_view_name": "StyleView",
            "description_width": ""
          }
        },
        "7500c2b8190c43c28f79f22547e6b143": {
          "model_module": "@jupyter-widgets/base",
          "model_name": "LayoutModel",
          "model_module_version": "1.2.0",
          "state": {
            "_model_module": "@jupyter-widgets/base",
            "_model_module_version": "1.2.0",
            "_model_name": "LayoutModel",
            "_view_count": null,
            "_view_module": "@jupyter-widgets/base",
            "_view_module_version": "1.2.0",
            "_view_name": "LayoutView",
            "align_content": null,
            "align_items": null,
            "align_self": null,
            "border": null,
            "bottom": null,
            "display": null,
            "flex": null,
            "flex_flow": null,
            "grid_area": null,
            "grid_auto_columns": null,
            "grid_auto_flow": null,
            "grid_auto_rows": null,
            "grid_column": null,
            "grid_gap": null,
            "grid_row": null,
            "grid_template_areas": null,
            "grid_template_columns": null,
            "grid_template_rows": null,
            "height": null,
            "justify_content": null,
            "justify_items": null,
            "left": null,
            "margin": null,
            "max_height": null,
            "max_width": null,
            "min_height": null,
            "min_width": null,
            "object_fit": null,
            "object_position": null,
            "order": null,
            "overflow": null,
            "overflow_x": null,
            "overflow_y": null,
            "padding": null,
            "right": null,
            "top": null,
            "visibility": null,
            "width": null
          }
        },
        "ebec714bcf7540baaae26d23e383300b": {
          "model_module": "@jupyter-widgets/controls",
          "model_name": "ProgressStyleModel",
          "model_module_version": "1.5.0",
          "state": {
            "_model_module": "@jupyter-widgets/controls",
            "_model_module_version": "1.5.0",
            "_model_name": "ProgressStyleModel",
            "_view_count": null,
            "_view_module": "@jupyter-widgets/base",
            "_view_module_version": "1.2.0",
            "_view_name": "StyleView",
            "bar_color": null,
            "description_width": ""
          }
        },
        "7ba5300be77a4e039ba5b8172b4e4a46": {
          "model_module": "@jupyter-widgets/base",
          "model_name": "LayoutModel",
          "model_module_version": "1.2.0",
          "state": {
            "_model_module": "@jupyter-widgets/base",
            "_model_module_version": "1.2.0",
            "_model_name": "LayoutModel",
            "_view_count": null,
            "_view_module": "@jupyter-widgets/base",
            "_view_module_version": "1.2.0",
            "_view_name": "LayoutView",
            "align_content": null,
            "align_items": null,
            "align_self": null,
            "border": null,
            "bottom": null,
            "display": null,
            "flex": null,
            "flex_flow": null,
            "grid_area": null,
            "grid_auto_columns": null,
            "grid_auto_flow": null,
            "grid_auto_rows": null,
            "grid_column": null,
            "grid_gap": null,
            "grid_row": null,
            "grid_template_areas": null,
            "grid_template_columns": null,
            "grid_template_rows": null,
            "height": null,
            "justify_content": null,
            "justify_items": null,
            "left": null,
            "margin": null,
            "max_height": null,
            "max_width": null,
            "min_height": null,
            "min_width": null,
            "object_fit": null,
            "object_position": null,
            "order": null,
            "overflow": null,
            "overflow_x": null,
            "overflow_y": null,
            "padding": null,
            "right": null,
            "top": null,
            "visibility": null,
            "width": null
          }
        },
        "3fa5f257e70643f4b6359f7aa5d49a1f": {
          "model_module": "@jupyter-widgets/controls",
          "model_name": "DescriptionStyleModel",
          "model_module_version": "1.5.0",
          "state": {
            "_model_module": "@jupyter-widgets/controls",
            "_model_module_version": "1.5.0",
            "_model_name": "DescriptionStyleModel",
            "_view_count": null,
            "_view_module": "@jupyter-widgets/base",
            "_view_module_version": "1.2.0",
            "_view_name": "StyleView",
            "description_width": ""
          }
        },
        "35ec3985ae634eddb2f0252a245a2765": {
          "model_module": "@jupyter-widgets/controls",
          "model_name": "HBoxModel",
          "model_module_version": "1.5.0",
          "state": {
            "_dom_classes": [],
            "_model_module": "@jupyter-widgets/controls",
            "_model_module_version": "1.5.0",
            "_model_name": "HBoxModel",
            "_view_count": null,
            "_view_module": "@jupyter-widgets/controls",
            "_view_module_version": "1.5.0",
            "_view_name": "HBoxView",
            "box_style": "",
            "children": [
              "IPY_MODEL_395b75245fa64ad38827478d772ee11f",
              "IPY_MODEL_d7f253530029478cbed711503a9c745e",
              "IPY_MODEL_08cf96b55cc2452cbd836d2c4dfd67b2"
            ],
            "layout": "IPY_MODEL_0eddb2fda7304e528d2266de6fd6f11d"
          }
        },
        "395b75245fa64ad38827478d772ee11f": {
          "model_module": "@jupyter-widgets/controls",
          "model_name": "HTMLModel",
          "model_module_version": "1.5.0",
          "state": {
            "_dom_classes": [],
            "_model_module": "@jupyter-widgets/controls",
            "_model_module_version": "1.5.0",
            "_model_name": "HTMLModel",
            "_view_count": null,
            "_view_module": "@jupyter-widgets/controls",
            "_view_module_version": "1.5.0",
            "_view_name": "HTMLView",
            "description": "",
            "description_tooltip": null,
            "layout": "IPY_MODEL_6f4977307d044696862ce7d664650407",
            "placeholder": "​",
            "style": "IPY_MODEL_e6ff7b2a78064289bf14acbd544d94d0",
            "value": "100%"
          }
        },
        "d7f253530029478cbed711503a9c745e": {
          "model_module": "@jupyter-widgets/controls",
          "model_name": "FloatProgressModel",
          "model_module_version": "1.5.0",
          "state": {
            "_dom_classes": [],
            "_model_module": "@jupyter-widgets/controls",
            "_model_module_version": "1.5.0",
            "_model_name": "FloatProgressModel",
            "_view_count": null,
            "_view_module": "@jupyter-widgets/controls",
            "_view_module_version": "1.5.0",
            "_view_name": "ProgressView",
            "bar_style": "success",
            "description": "",
            "description_tooltip": null,
            "layout": "IPY_MODEL_1f9f603cae0d4c9bad1d4a0b20bf87d4",
            "max": 1,
            "min": 0,
            "orientation": "horizontal",
            "style": "IPY_MODEL_d8adc2eb48ad40529d6b14521ca3cdc8",
            "value": 1
          }
        },
        "08cf96b55cc2452cbd836d2c4dfd67b2": {
          "model_module": "@jupyter-widgets/controls",
          "model_name": "HTMLModel",
          "model_module_version": "1.5.0",
          "state": {
            "_dom_classes": [],
            "_model_module": "@jupyter-widgets/controls",
            "_model_module_version": "1.5.0",
            "_model_name": "HTMLModel",
            "_view_count": null,
            "_view_module": "@jupyter-widgets/controls",
            "_view_module_version": "1.5.0",
            "_view_name": "HTMLView",
            "description": "",
            "description_tooltip": null,
            "layout": "IPY_MODEL_34645cd5920145eb9f4edeab67908986",
            "placeholder": "​",
            "style": "IPY_MODEL_57ef7a12ecee4e1aaf478015504ca18e",
            "value": " 1/1 [00:03&lt;00:00,  3.52s/it]"
          }
        },
        "0eddb2fda7304e528d2266de6fd6f11d": {
          "model_module": "@jupyter-widgets/base",
          "model_name": "LayoutModel",
          "model_module_version": "1.2.0",
          "state": {
            "_model_module": "@jupyter-widgets/base",
            "_model_module_version": "1.2.0",
            "_model_name": "LayoutModel",
            "_view_count": null,
            "_view_module": "@jupyter-widgets/base",
            "_view_module_version": "1.2.0",
            "_view_name": "LayoutView",
            "align_content": null,
            "align_items": null,
            "align_self": null,
            "border": null,
            "bottom": null,
            "display": null,
            "flex": null,
            "flex_flow": null,
            "grid_area": null,
            "grid_auto_columns": null,
            "grid_auto_flow": null,
            "grid_auto_rows": null,
            "grid_column": null,
            "grid_gap": null,
            "grid_row": null,
            "grid_template_areas": null,
            "grid_template_columns": null,
            "grid_template_rows": null,
            "height": null,
            "justify_content": null,
            "justify_items": null,
            "left": null,
            "margin": null,
            "max_height": null,
            "max_width": null,
            "min_height": null,
            "min_width": null,
            "object_fit": null,
            "object_position": null,
            "order": null,
            "overflow": null,
            "overflow_x": null,
            "overflow_y": null,
            "padding": null,
            "right": null,
            "top": null,
            "visibility": null,
            "width": null
          }
        },
        "6f4977307d044696862ce7d664650407": {
          "model_module": "@jupyter-widgets/base",
          "model_name": "LayoutModel",
          "model_module_version": "1.2.0",
          "state": {
            "_model_module": "@jupyter-widgets/base",
            "_model_module_version": "1.2.0",
            "_model_name": "LayoutModel",
            "_view_count": null,
            "_view_module": "@jupyter-widgets/base",
            "_view_module_version": "1.2.0",
            "_view_name": "LayoutView",
            "align_content": null,
            "align_items": null,
            "align_self": null,
            "border": null,
            "bottom": null,
            "display": null,
            "flex": null,
            "flex_flow": null,
            "grid_area": null,
            "grid_auto_columns": null,
            "grid_auto_flow": null,
            "grid_auto_rows": null,
            "grid_column": null,
            "grid_gap": null,
            "grid_row": null,
            "grid_template_areas": null,
            "grid_template_columns": null,
            "grid_template_rows": null,
            "height": null,
            "justify_content": null,
            "justify_items": null,
            "left": null,
            "margin": null,
            "max_height": null,
            "max_width": null,
            "min_height": null,
            "min_width": null,
            "object_fit": null,
            "object_position": null,
            "order": null,
            "overflow": null,
            "overflow_x": null,
            "overflow_y": null,
            "padding": null,
            "right": null,
            "top": null,
            "visibility": null,
            "width": null
          }
        },
        "e6ff7b2a78064289bf14acbd544d94d0": {
          "model_module": "@jupyter-widgets/controls",
          "model_name": "DescriptionStyleModel",
          "model_module_version": "1.5.0",
          "state": {
            "_model_module": "@jupyter-widgets/controls",
            "_model_module_version": "1.5.0",
            "_model_name": "DescriptionStyleModel",
            "_view_count": null,
            "_view_module": "@jupyter-widgets/base",
            "_view_module_version": "1.2.0",
            "_view_name": "StyleView",
            "description_width": ""
          }
        },
        "1f9f603cae0d4c9bad1d4a0b20bf87d4": {
          "model_module": "@jupyter-widgets/base",
          "model_name": "LayoutModel",
          "model_module_version": "1.2.0",
          "state": {
            "_model_module": "@jupyter-widgets/base",
            "_model_module_version": "1.2.0",
            "_model_name": "LayoutModel",
            "_view_count": null,
            "_view_module": "@jupyter-widgets/base",
            "_view_module_version": "1.2.0",
            "_view_name": "LayoutView",
            "align_content": null,
            "align_items": null,
            "align_self": null,
            "border": null,
            "bottom": null,
            "display": null,
            "flex": null,
            "flex_flow": null,
            "grid_area": null,
            "grid_auto_columns": null,
            "grid_auto_flow": null,
            "grid_auto_rows": null,
            "grid_column": null,
            "grid_gap": null,
            "grid_row": null,
            "grid_template_areas": null,
            "grid_template_columns": null,
            "grid_template_rows": null,
            "height": null,
            "justify_content": null,
            "justify_items": null,
            "left": null,
            "margin": null,
            "max_height": null,
            "max_width": null,
            "min_height": null,
            "min_width": null,
            "object_fit": null,
            "object_position": null,
            "order": null,
            "overflow": null,
            "overflow_x": null,
            "overflow_y": null,
            "padding": null,
            "right": null,
            "top": null,
            "visibility": null,
            "width": null
          }
        },
        "d8adc2eb48ad40529d6b14521ca3cdc8": {
          "model_module": "@jupyter-widgets/controls",
          "model_name": "ProgressStyleModel",
          "model_module_version": "1.5.0",
          "state": {
            "_model_module": "@jupyter-widgets/controls",
            "_model_module_version": "1.5.0",
            "_model_name": "ProgressStyleModel",
            "_view_count": null,
            "_view_module": "@jupyter-widgets/base",
            "_view_module_version": "1.2.0",
            "_view_name": "StyleView",
            "bar_color": null,
            "description_width": ""
          }
        },
        "34645cd5920145eb9f4edeab67908986": {
          "model_module": "@jupyter-widgets/base",
          "model_name": "LayoutModel",
          "model_module_version": "1.2.0",
          "state": {
            "_model_module": "@jupyter-widgets/base",
            "_model_module_version": "1.2.0",
            "_model_name": "LayoutModel",
            "_view_count": null,
            "_view_module": "@jupyter-widgets/base",
            "_view_module_version": "1.2.0",
            "_view_name": "LayoutView",
            "align_content": null,
            "align_items": null,
            "align_self": null,
            "border": null,
            "bottom": null,
            "display": null,
            "flex": null,
            "flex_flow": null,
            "grid_area": null,
            "grid_auto_columns": null,
            "grid_auto_flow": null,
            "grid_auto_rows": null,
            "grid_column": null,
            "grid_gap": null,
            "grid_row": null,
            "grid_template_areas": null,
            "grid_template_columns": null,
            "grid_template_rows": null,
            "height": null,
            "justify_content": null,
            "justify_items": null,
            "left": null,
            "margin": null,
            "max_height": null,
            "max_width": null,
            "min_height": null,
            "min_width": null,
            "object_fit": null,
            "object_position": null,
            "order": null,
            "overflow": null,
            "overflow_x": null,
            "overflow_y": null,
            "padding": null,
            "right": null,
            "top": null,
            "visibility": null,
            "width": null
          }
        },
        "57ef7a12ecee4e1aaf478015504ca18e": {
          "model_module": "@jupyter-widgets/controls",
          "model_name": "DescriptionStyleModel",
          "model_module_version": "1.5.0",
          "state": {
            "_model_module": "@jupyter-widgets/controls",
            "_model_module_version": "1.5.0",
            "_model_name": "DescriptionStyleModel",
            "_view_count": null,
            "_view_module": "@jupyter-widgets/base",
            "_view_module_version": "1.2.0",
            "_view_name": "StyleView",
            "description_width": ""
          }
        },
        "6f9951f39e754a33825d19f7dcb4a5f6": {
          "model_module": "@jupyter-widgets/controls",
          "model_name": "HBoxModel",
          "model_module_version": "1.5.0",
          "state": {
            "_dom_classes": [],
            "_model_module": "@jupyter-widgets/controls",
            "_model_module_version": "1.5.0",
            "_model_name": "HBoxModel",
            "_view_count": null,
            "_view_module": "@jupyter-widgets/controls",
            "_view_module_version": "1.5.0",
            "_view_name": "HBoxView",
            "box_style": "",
            "children": [
              "IPY_MODEL_c9d3a6dd9b534da89be610b53edf6daa",
              "IPY_MODEL_df72efeb35b543c6b8e747348382edb1",
              "IPY_MODEL_abff98f683af4ff683e469918085914a"
            ],
            "layout": "IPY_MODEL_64a75928ae764d42b16965919dfd62a1"
          }
        },
        "c9d3a6dd9b534da89be610b53edf6daa": {
          "model_module": "@jupyter-widgets/controls",
          "model_name": "HTMLModel",
          "model_module_version": "1.5.0",
          "state": {
            "_dom_classes": [],
            "_model_module": "@jupyter-widgets/controls",
            "_model_module_version": "1.5.0",
            "_model_name": "HTMLModel",
            "_view_count": null,
            "_view_module": "@jupyter-widgets/controls",
            "_view_module_version": "1.5.0",
            "_view_name": "HTMLView",
            "description": "",
            "description_tooltip": null,
            "layout": "IPY_MODEL_1bc38abfc9fb481a84b8ccdf47f4ef8e",
            "placeholder": "​",
            "style": "IPY_MODEL_090aaeca49074d27833f2046b6376a4b",
            "value": "100%"
          }
        },
        "df72efeb35b543c6b8e747348382edb1": {
          "model_module": "@jupyter-widgets/controls",
          "model_name": "FloatProgressModel",
          "model_module_version": "1.5.0",
          "state": {
            "_dom_classes": [],
            "_model_module": "@jupyter-widgets/controls",
            "_model_module_version": "1.5.0",
            "_model_name": "FloatProgressModel",
            "_view_count": null,
            "_view_module": "@jupyter-widgets/controls",
            "_view_module_version": "1.5.0",
            "_view_name": "ProgressView",
            "bar_style": "success",
            "description": "",
            "description_tooltip": null,
            "layout": "IPY_MODEL_8269d81150ad4c80b0d29f762c7575d7",
            "max": 1,
            "min": 0,
            "orientation": "horizontal",
            "style": "IPY_MODEL_533e26cb3b7d445fbcdde8c95b29d1bc",
            "value": 1
          }
        },
        "abff98f683af4ff683e469918085914a": {
          "model_module": "@jupyter-widgets/controls",
          "model_name": "HTMLModel",
          "model_module_version": "1.5.0",
          "state": {
            "_dom_classes": [],
            "_model_module": "@jupyter-widgets/controls",
            "_model_module_version": "1.5.0",
            "_model_name": "HTMLModel",
            "_view_count": null,
            "_view_module": "@jupyter-widgets/controls",
            "_view_module_version": "1.5.0",
            "_view_name": "HTMLView",
            "description": "",
            "description_tooltip": null,
            "layout": "IPY_MODEL_aec7be4549cc45449f2cb8c403b5c394",
            "placeholder": "​",
            "style": "IPY_MODEL_0cdabdba34494c20959bf1ff444e4c1c",
            "value": " 1/1 [00:03&lt;00:00,  3.79s/it]"
          }
        },
        "64a75928ae764d42b16965919dfd62a1": {
          "model_module": "@jupyter-widgets/base",
          "model_name": "LayoutModel",
          "model_module_version": "1.2.0",
          "state": {
            "_model_module": "@jupyter-widgets/base",
            "_model_module_version": "1.2.0",
            "_model_name": "LayoutModel",
            "_view_count": null,
            "_view_module": "@jupyter-widgets/base",
            "_view_module_version": "1.2.0",
            "_view_name": "LayoutView",
            "align_content": null,
            "align_items": null,
            "align_self": null,
            "border": null,
            "bottom": null,
            "display": null,
            "flex": null,
            "flex_flow": null,
            "grid_area": null,
            "grid_auto_columns": null,
            "grid_auto_flow": null,
            "grid_auto_rows": null,
            "grid_column": null,
            "grid_gap": null,
            "grid_row": null,
            "grid_template_areas": null,
            "grid_template_columns": null,
            "grid_template_rows": null,
            "height": null,
            "justify_content": null,
            "justify_items": null,
            "left": null,
            "margin": null,
            "max_height": null,
            "max_width": null,
            "min_height": null,
            "min_width": null,
            "object_fit": null,
            "object_position": null,
            "order": null,
            "overflow": null,
            "overflow_x": null,
            "overflow_y": null,
            "padding": null,
            "right": null,
            "top": null,
            "visibility": null,
            "width": null
          }
        },
        "1bc38abfc9fb481a84b8ccdf47f4ef8e": {
          "model_module": "@jupyter-widgets/base",
          "model_name": "LayoutModel",
          "model_module_version": "1.2.0",
          "state": {
            "_model_module": "@jupyter-widgets/base",
            "_model_module_version": "1.2.0",
            "_model_name": "LayoutModel",
            "_view_count": null,
            "_view_module": "@jupyter-widgets/base",
            "_view_module_version": "1.2.0",
            "_view_name": "LayoutView",
            "align_content": null,
            "align_items": null,
            "align_self": null,
            "border": null,
            "bottom": null,
            "display": null,
            "flex": null,
            "flex_flow": null,
            "grid_area": null,
            "grid_auto_columns": null,
            "grid_auto_flow": null,
            "grid_auto_rows": null,
            "grid_column": null,
            "grid_gap": null,
            "grid_row": null,
            "grid_template_areas": null,
            "grid_template_columns": null,
            "grid_template_rows": null,
            "height": null,
            "justify_content": null,
            "justify_items": null,
            "left": null,
            "margin": null,
            "max_height": null,
            "max_width": null,
            "min_height": null,
            "min_width": null,
            "object_fit": null,
            "object_position": null,
            "order": null,
            "overflow": null,
            "overflow_x": null,
            "overflow_y": null,
            "padding": null,
            "right": null,
            "top": null,
            "visibility": null,
            "width": null
          }
        },
        "090aaeca49074d27833f2046b6376a4b": {
          "model_module": "@jupyter-widgets/controls",
          "model_name": "DescriptionStyleModel",
          "model_module_version": "1.5.0",
          "state": {
            "_model_module": "@jupyter-widgets/controls",
            "_model_module_version": "1.5.0",
            "_model_name": "DescriptionStyleModel",
            "_view_count": null,
            "_view_module": "@jupyter-widgets/base",
            "_view_module_version": "1.2.0",
            "_view_name": "StyleView",
            "description_width": ""
          }
        },
        "8269d81150ad4c80b0d29f762c7575d7": {
          "model_module": "@jupyter-widgets/base",
          "model_name": "LayoutModel",
          "model_module_version": "1.2.0",
          "state": {
            "_model_module": "@jupyter-widgets/base",
            "_model_module_version": "1.2.0",
            "_model_name": "LayoutModel",
            "_view_count": null,
            "_view_module": "@jupyter-widgets/base",
            "_view_module_version": "1.2.0",
            "_view_name": "LayoutView",
            "align_content": null,
            "align_items": null,
            "align_self": null,
            "border": null,
            "bottom": null,
            "display": null,
            "flex": null,
            "flex_flow": null,
            "grid_area": null,
            "grid_auto_columns": null,
            "grid_auto_flow": null,
            "grid_auto_rows": null,
            "grid_column": null,
            "grid_gap": null,
            "grid_row": null,
            "grid_template_areas": null,
            "grid_template_columns": null,
            "grid_template_rows": null,
            "height": null,
            "justify_content": null,
            "justify_items": null,
            "left": null,
            "margin": null,
            "max_height": null,
            "max_width": null,
            "min_height": null,
            "min_width": null,
            "object_fit": null,
            "object_position": null,
            "order": null,
            "overflow": null,
            "overflow_x": null,
            "overflow_y": null,
            "padding": null,
            "right": null,
            "top": null,
            "visibility": null,
            "width": null
          }
        },
        "533e26cb3b7d445fbcdde8c95b29d1bc": {
          "model_module": "@jupyter-widgets/controls",
          "model_name": "ProgressStyleModel",
          "model_module_version": "1.5.0",
          "state": {
            "_model_module": "@jupyter-widgets/controls",
            "_model_module_version": "1.5.0",
            "_model_name": "ProgressStyleModel",
            "_view_count": null,
            "_view_module": "@jupyter-widgets/base",
            "_view_module_version": "1.2.0",
            "_view_name": "StyleView",
            "bar_color": null,
            "description_width": ""
          }
        },
        "aec7be4549cc45449f2cb8c403b5c394": {
          "model_module": "@jupyter-widgets/base",
          "model_name": "LayoutModel",
          "model_module_version": "1.2.0",
          "state": {
            "_model_module": "@jupyter-widgets/base",
            "_model_module_version": "1.2.0",
            "_model_name": "LayoutModel",
            "_view_count": null,
            "_view_module": "@jupyter-widgets/base",
            "_view_module_version": "1.2.0",
            "_view_name": "LayoutView",
            "align_content": null,
            "align_items": null,
            "align_self": null,
            "border": null,
            "bottom": null,
            "display": null,
            "flex": null,
            "flex_flow": null,
            "grid_area": null,
            "grid_auto_columns": null,
            "grid_auto_flow": null,
            "grid_auto_rows": null,
            "grid_column": null,
            "grid_gap": null,
            "grid_row": null,
            "grid_template_areas": null,
            "grid_template_columns": null,
            "grid_template_rows": null,
            "height": null,
            "justify_content": null,
            "justify_items": null,
            "left": null,
            "margin": null,
            "max_height": null,
            "max_width": null,
            "min_height": null,
            "min_width": null,
            "object_fit": null,
            "object_position": null,
            "order": null,
            "overflow": null,
            "overflow_x": null,
            "overflow_y": null,
            "padding": null,
            "right": null,
            "top": null,
            "visibility": null,
            "width": null
          }
        },
        "0cdabdba34494c20959bf1ff444e4c1c": {
          "model_module": "@jupyter-widgets/controls",
          "model_name": "DescriptionStyleModel",
          "model_module_version": "1.5.0",
          "state": {
            "_model_module": "@jupyter-widgets/controls",
            "_model_module_version": "1.5.0",
            "_model_name": "DescriptionStyleModel",
            "_view_count": null,
            "_view_module": "@jupyter-widgets/base",
            "_view_module_version": "1.2.0",
            "_view_name": "StyleView",
            "description_width": ""
          }
        }
      }
    }
  },
  "cells": [
    {
      "cell_type": "markdown",
      "metadata": {
        "id": "view-in-github",
        "colab_type": "text"
      },
      "source": [
        "<a href=\"https://colab.research.google.com/github/soumik12345/wandb-addons/blob/keras%2Fyolov8/docs/keras/examples/train_retinanet.ipynb\" target=\"_parent\"><img src=\"https://colab.research.google.com/assets/colab-badge.svg\" alt=\"Open In Colab\"/></a>"
      ]
    },
    {
      "cell_type": "code",
      "execution_count": 1,
      "metadata": {
        "id": "bSHNOr-fN2tZ"
      },
      "outputs": [],
      "source": [
        "# !pip install --upgrade -q git+https://github.com/keras-team/keras-cv wandb\n",
        "# !git clone https://github.com/soumik12345/wandb-addons -b keras/yolov8 && cd wandb-addons && pip install -q -e ."
      ]
    },
    {
      "cell_type": "code",
      "source": [
        "import os\n",
        "from typing import Union, Optional\n",
        "\n",
        "import tensorflow as tf\n",
        "from tensorflow import keras\n",
        "from tensorflow import data as tf_data\n",
        "import tensorflow_datasets as tfds\n",
        "\n",
        "import keras_cv\n",
        "import numpy as np\n",
        "\n",
        "import resource\n",
        "from tqdm.auto import tqdm\n",
        "import matplotlib.pyplot as plt\n",
        "\n",
        "import wandb\n",
        "from wandb.keras import WandbMetricsLogger\n",
        "from wandb_addons.keras.detection.inference import get_mean_confidence_per_class"
      ],
      "metadata": {
        "colab": {
          "base_uri": "https://localhost:8080/"
        },
        "id": "_BH0oMcZN8l7",
        "outputId": "376a2191-66e9-46c5-d34d-881c66ac8108"
      },
      "execution_count": 2,
      "outputs": [
        {
          "output_type": "stream",
          "name": "stdout",
          "text": [
            "Using TensorFlow backend\n"
          ]
        }
      ]
    },
    {
      "cell_type": "code",
      "source": [
        "wandb.init(\n",
        "    project=\"keras-cv-callbacks\", entity=\"geekyrakshit\", job_type=\"detection\"\n",
        ")\n",
        "\n",
        "config = wandb.config\n",
        "config.batch_size = 4\n",
        "config.base_lr = 0.005\n",
        "config.model_name = \"retinanet_resnet50_pascalvoc\"\n",
        "config.momentum = 0.9\n",
        "config.global_clipnorm = 10.0\n",
        "\n",
        "\n",
        "class_ids = [\n",
        "    \"Aeroplane\",\n",
        "    \"Bicycle\",\n",
        "    \"Bird\",\n",
        "    \"Boat\",\n",
        "    \"Bottle\",\n",
        "    \"Bus\",\n",
        "    \"Car\",\n",
        "    \"Cat\",\n",
        "    \"Chair\",\n",
        "    \"Cow\",\n",
        "    \"Dining Table\",\n",
        "    \"Dog\",\n",
        "    \"Horse\",\n",
        "    \"Motorbike\",\n",
        "    \"Person\",\n",
        "    \"Potted Plant\",\n",
        "    \"Sheep\",\n",
        "    \"Sofa\",\n",
        "    \"Train\",\n",
        "    \"Tvmonitor\",\n",
        "    \"Total\",\n",
        "]\n",
        "config.class_mapping = dict(zip(range(len(class_ids)), class_ids))"
      ],
      "metadata": {
        "colab": {
          "base_uri": "https://localhost:8080/",
          "height": 122
        },
        "id": "YDOC6v4ZN_eM",
        "outputId": "04238e60-4ffa-4a83-f703-a1352569139b"
      },
      "execution_count": 3,
      "outputs": [
        {
          "output_type": "stream",
          "name": "stderr",
          "text": [
            "\u001b[34m\u001b[1mwandb\u001b[0m: Currently logged in as: \u001b[33mgeekyrakshit\u001b[0m. Use \u001b[1m`wandb login --relogin`\u001b[0m to force relogin\n"
          ]
        },
        {
          "output_type": "display_data",
          "data": {
            "text/plain": [
              "<IPython.core.display.HTML object>"
            ],
            "text/html": [
              "Tracking run with wandb version 0.15.8"
            ]
          },
          "metadata": {}
        },
        {
          "output_type": "display_data",
          "data": {
            "text/plain": [
              "<IPython.core.display.HTML object>"
            ],
            "text/html": [
              "Run data is saved locally in <code>/content/wandb/run-20230816_183537-nrpedu8a</code>"
            ]
          },
          "metadata": {}
        },
        {
          "output_type": "display_data",
          "data": {
            "text/plain": [
              "<IPython.core.display.HTML object>"
            ],
            "text/html": [
              "Syncing run <strong><a href='https://wandb.ai/geekyrakshit/keras-cv-callbacks/runs/nrpedu8a' target=\"_blank\">noble-firefly-117</a></strong> to <a href='https://wandb.ai/geekyrakshit/keras-cv-callbacks' target=\"_blank\">Weights & Biases</a> (<a href='https://wandb.me/run' target=\"_blank\">docs</a>)<br/>"
            ]
          },
          "metadata": {}
        },
        {
          "output_type": "display_data",
          "data": {
            "text/plain": [
              "<IPython.core.display.HTML object>"
            ],
            "text/html": [
              " View project at <a href='https://wandb.ai/geekyrakshit/keras-cv-callbacks' target=\"_blank\">https://wandb.ai/geekyrakshit/keras-cv-callbacks</a>"
            ]
          },
          "metadata": {}
        },
        {
          "output_type": "display_data",
          "data": {
            "text/plain": [
              "<IPython.core.display.HTML object>"
            ],
            "text/html": [
              " View run at <a href='https://wandb.ai/geekyrakshit/keras-cv-callbacks/runs/nrpedu8a' target=\"_blank\">https://wandb.ai/geekyrakshit/keras-cv-callbacks/runs/nrpedu8a</a>"
            ]
          },
          "metadata": {}
        }
      ]
    },
    {
      "cell_type": "code",
      "source": [
        "train_ds = tfds.load(\n",
        "    \"voc/2007\",\n",
        "    split=\"train+validation\",\n",
        "    with_info=False,\n",
        "    shuffle_files=True,\n",
        ")\n",
        "train_ds = train_ds.concatenate(\n",
        "    tfds.load(\n",
        "        \"voc/2012\",\n",
        "        split=\"train+validation\",\n",
        "        with_info=False,\n",
        "        shuffle_files=True,\n",
        "    )\n",
        ")\n",
        "eval_ds = tfds.load(\"voc/2007\", split=\"test\", with_info=False)"
      ],
      "metadata": {
        "id": "VZdWg6uteTmb"
      },
      "execution_count": 4,
      "outputs": []
    },
    {
      "cell_type": "code",
      "source": [
        "def unpackage_tfds_inputs(inputs, bounding_box_format):\n",
        "    image = inputs[\"image\"]\n",
        "    boxes = keras_cv.bounding_box.convert_format(\n",
        "        inputs[\"objects\"][\"bbox\"],\n",
        "        images=image,\n",
        "        source=\"rel_yxyx\",\n",
        "        target=bounding_box_format,\n",
        "    )\n",
        "    bounding_boxes = {\n",
        "        \"classes\": tf.cast(inputs[\"objects\"][\"label\"], dtype=tf.float32),\n",
        "        \"boxes\": tf.cast(boxes, dtype=tf.float32),\n",
        "    }\n",
        "    return {\n",
        "        \"images\": tf.cast(image, tf.float32),\n",
        "        \"bounding_boxes\": bounding_boxes,\n",
        "    }\n",
        "\n",
        "\n",
        "train_ds = train_ds.map(\n",
        "    lambda inputs: unpackage_tfds_inputs(inputs, bounding_box_format=\"xywh\"),\n",
        "    num_parallel_calls=tf.data.AUTOTUNE,\n",
        ")\n",
        "eval_ds = eval_ds.map(\n",
        "    lambda inputs: unpackage_tfds_inputs(inputs, bounding_box_format=\"xywh\"),\n",
        "    num_parallel_calls=tf.data.AUTOTUNE,\n",
        ")"
      ],
      "metadata": {
        "id": "t4Mhrn3YOBXA"
      },
      "execution_count": 5,
      "outputs": []
    },
    {
      "cell_type": "code",
      "source": [
        "train_ds = train_ds.ragged_batch(config.batch_size, drop_remainder=True)\n",
        "eval_ds = eval_ds.ragged_batch(config.batch_size, drop_remainder=True)"
      ],
      "metadata": {
        "id": "66UNA5y4PUOP"
      },
      "execution_count": 6,
      "outputs": []
    },
    {
      "cell_type": "code",
      "source": [
        "augmenter = keras.Sequential(\n",
        "    layers=[\n",
        "        keras_cv.layers.RandomFlip(mode=\"horizontal\", bounding_box_format=\"xywh\"),\n",
        "        keras_cv.layers.JitteredResize(\n",
        "            target_size=(640, 640), scale_factor=(0.75, 1.3), bounding_box_format=\"xywh\"\n",
        "        ),\n",
        "    ]\n",
        ")\n",
        "\n",
        "train_ds = train_ds.map(augmenter, num_parallel_calls=tf.data.AUTOTUNE)"
      ],
      "metadata": {
        "colab": {
          "base_uri": "https://localhost:8080/"
        },
        "id": "LSnPzWoTfWqr",
        "outputId": "4aa91a1a-f677-41b4-9480-4b3ddb085496"
      },
      "execution_count": 7,
      "outputs": [
        {
          "output_type": "stream",
          "name": "stderr",
          "text": [
            "WARNING:tensorflow:Layers in a Sequential model should only have a single input tensor. Received: inputs={'images': tf.RaggedTensor(values=tf.RaggedTensor(values=Tensor(\"RaggedFromVariant_2/RaggedTensorFromVariant:2\", shape=(None, 3), dtype=float32), row_splits=Tensor(\"RaggedFromVariant_2/RaggedTensorFromVariant:1\", shape=(None,), dtype=int64)), row_splits=Tensor(\"RaggedFromVariant_2/RaggedTensorFromVariant:0\", shape=(5,), dtype=int64)), 'bounding_boxes': {'classes': tf.RaggedTensor(values=Tensor(\"RaggedFromVariant_1/RaggedTensorFromVariant:1\", shape=(None,), dtype=float32), row_splits=Tensor(\"RaggedFromVariant_1/RaggedTensorFromVariant:0\", shape=(5,), dtype=int64)), 'boxes': tf.RaggedTensor(values=Tensor(\"RaggedFromVariant/RaggedTensorFromVariant:1\", shape=(None, 4), dtype=float32), row_splits=Tensor(\"RaggedFromVariant/RaggedTensorFromVariant:0\", shape=(5,), dtype=int64))}}. Consider rewriting this model with the Functional API.\n"
          ]
        }
      ]
    },
    {
      "cell_type": "code",
      "source": [
        "inference_resizing = keras_cv.layers.Resizing(\n",
        "    640, 640, bounding_box_format=\"xywh\", pad_to_aspect_ratio=True\n",
        ")\n",
        "eval_ds = eval_ds.map(inference_resizing, num_parallel_calls=tf.data.AUTOTUNE)"
      ],
      "metadata": {
        "id": "GKX_NDqCfdQj"
      },
      "execution_count": 8,
      "outputs": []
    },
    {
      "cell_type": "code",
      "source": [
        "def dict_to_tuple(inputs):\n",
        "    return inputs[\"images\"], keras_cv.bounding_box.to_dense(\n",
        "        inputs[\"bounding_boxes\"], max_boxes=32\n",
        "    )\n",
        "\n",
        "\n",
        "train_ds = train_ds.map(dict_to_tuple, num_parallel_calls=tf.data.AUTOTUNE)\n",
        "eval_ds = eval_ds.map(dict_to_tuple, num_parallel_calls=tf.data.AUTOTUNE)\n",
        "\n",
        "train_ds = train_ds.prefetch(tf.data.AUTOTUNE)\n",
        "eval_ds = eval_ds.prefetch(tf.data.AUTOTUNE)"
      ],
      "metadata": {
        "id": "8v1leLagffgU"
      },
      "execution_count": 9,
      "outputs": []
    },
    {
      "cell_type": "code",
      "source": [
        "model = keras_cv.models.RetinaNet.from_preset(\n",
        "    \"resnet50_imagenet\",\n",
        "    num_classes=len(config.class_mapping),\n",
        "    bounding_box_format=\"xywh\",\n",
        ")\n",
        "print(model.prediction_decoder)\n",
        "\n",
        "\n",
        "optimizer = keras.optimizers.SGD(\n",
        "    learning_rate=config.base_lr,\n",
        "    momentum=config.momentum,\n",
        "    global_clipnorm=config.global_clipnorm,\n",
        ")\n",
        "model.compile(\n",
        "    classification_loss=\"focal\",\n",
        "    box_loss=\"smoothl1\",\n",
        "    optimizer=optimizer,\n",
        "    metrics=None,\n",
        ")"
      ],
      "metadata": {
        "colab": {
          "base_uri": "https://localhost:8080/"
        },
        "id": "b44hcGJugqZB",
        "outputId": "97b222a3-c994-482c-a447-37fef5310a67"
      },
      "execution_count": 10,
      "outputs": [
        {
          "output_type": "stream",
          "name": "stdout",
          "text": [
            "<keras_cv.layers.object_detection.non_max_suppression.NonMaxSuppression object at 0x7910e9fcdcf0>\n"
          ]
        }
      ]
    },
    {
      "cell_type": "code",
      "source": [
        "class EvaluateCOCOMetricsCallback(keras.callbacks.Callback):\n",
        "    def __init__(self, data, *args, **kwargs):\n",
        "        super().__init__(*args, **kwargs)\n",
        "        self.data = data\n",
        "        self.metrics = keras_cv.metrics.BoxCOCOMetrics(\n",
        "            bounding_box_format=\"xywh\",\n",
        "            evaluate_freq=1e9,\n",
        "        )\n",
        "\n",
        "    def on_epoch_end(self, epoch, logs):\n",
        "        self.metrics.reset_state()\n",
        "        for batch in tqdm(self.data):\n",
        "            images, y_true = batch[0], batch[1]\n",
        "            y_pred = self.model.predict(images, verbose=0)\n",
        "            self.metrics.update_state(y_true, y_pred)\n",
        "\n",
        "        metrics = self.metrics.result(force=True)\n",
        "        logs.update(metrics)\n",
        "        return logs"
      ],
      "metadata": {
        "id": "T50iFNK9hLa0"
      },
      "execution_count": 11,
      "outputs": []
    },
    {
      "cell_type": "code",
      "source": [
        "class WandBDetectionVisualizationCallback(keras.callbacks.Callback):\n",
        "    def __init__(\n",
        "        self,\n",
        "        dataset: tf.data.Dataset,\n",
        "        class_mapping: dict,\n",
        "        max_batches_for_vis: Optional[Union[int, None]] = 1,\n",
        "        iou_threshold: float = 0.01,\n",
        "        confidence_threshold: float = 0.01,\n",
        "        source_bounding_box_format: str = \"xywh\",\n",
        "        title: str = \"Evaluation-Table\",\n",
        "        *args,\n",
        "        **kwargs\n",
        "    ):\n",
        "        super().__init__(*args, **kwargs)\n",
        "        self.dataset = dataset.take(max_batches_for_vis)\n",
        "        self.class_mapping = class_mapping\n",
        "        self.max_batches_for_vis = max_batches_for_vis\n",
        "        self.iou_threshold = iou_threshold\n",
        "        self.confidence_threshold = confidence_threshold\n",
        "        self.source_bounding_box_format = source_bounding_box_format\n",
        "        self.title = title\n",
        "        self.prediction_decoder = keras_cv.layers.MultiClassNonMaxSuppression(\n",
        "            bounding_box_format=self.source_bounding_box_format,\n",
        "            from_logits=True,\n",
        "            iou_threshold=self.iou_threshold,\n",
        "            confidence_threshold=self.confidence_threshold,\n",
        "        )\n",
        "        self.table = wandb.Table(columns=[\"Epoch\", \"Image\", \"Number-of-Ground-Truth-Boxes\", \"Mean-Confidence\"])\n",
        "\n",
        "    def plot_prediction(self, epoch, image_batch, y_true_batch):\n",
        "        y_pred_batch = self.model.predict(image_batch)\n",
        "        y_pred = keras_cv.bounding_box.to_ragged(y_pred_batch)\n",
        "        image_batch = keras_cv.utils.to_numpy(image_batch).astype(np.uint8)\n",
        "        ground_truth_bounding_boxes = keras_cv.utils.to_numpy(\n",
        "            keras_cv.bounding_box.convert_format(\n",
        "                y_true_batch[\"boxes\"],\n",
        "                source=self.source_bounding_box_format,\n",
        "                target=\"xyxy\",\n",
        "                images=image_batch,\n",
        "            )\n",
        "        )\n",
        "        ground_truth_classes = keras_cv.utils.to_numpy(y_true_batch[\"classes\"])\n",
        "        predicted_bounding_boxes = keras_cv.utils.to_numpy(\n",
        "            keras_cv.bounding_box.convert_format(\n",
        "                y_pred[\"boxes\"],\n",
        "                source=self.source_bounding_box_format,\n",
        "                target=\"xyxy\",\n",
        "                images=image_batch,\n",
        "            )\n",
        "        )\n",
        "        for idx in range(image_batch.shape[0]):\n",
        "            num_detections = y_pred[\"num_detections\"][idx].item()\n",
        "            predicted_boxes = predicted_bounding_boxes[idx][:num_detections]\n",
        "            confidences = keras_cv.utils.to_numpy(\n",
        "                y_pred[\"confidence\"][idx][:num_detections]\n",
        "            )\n",
        "            predicted_classes = keras_cv.utils.to_numpy(y_pred[\"classes\"][idx][:num_detections])\n",
        "\n",
        "            gt_classes = [\n",
        "                int(class_idx) for class_idx in ground_truth_classes[idx].tolist()\n",
        "            ]\n",
        "            gt_boxes = ground_truth_bounding_boxes[idx]\n",
        "            if -1 in gt_classes:\n",
        "                gt_classes = gt_classes[: gt_classes.index(-1)]\n",
        "\n",
        "            wandb_prediction_boxes = []\n",
        "            for box_idx in range(num_detections):\n",
        "                wandb_prediction_boxes.append(\n",
        "                    {\n",
        "                        \"position\": {\n",
        "                            \"minX\": predicted_boxes[box_idx][0]\n",
        "                            / image_batch[idx].shape[0],\n",
        "                            \"minY\": predicted_boxes[box_idx][1]\n",
        "                            / image_batch[idx].shape[1],\n",
        "                            \"maxX\": predicted_boxes[box_idx][2]\n",
        "                            / image_batch[idx].shape[0],\n",
        "                            \"maxY\": predicted_boxes[box_idx][3]\n",
        "                            / image_batch[idx].shape[1],\n",
        "                        },\n",
        "                        \"class_id\": int(predicted_classes[box_idx]),\n",
        "                        \"box_caption\": self.class_mapping[int(predicted_classes[box_idx])],\n",
        "                        \"scores\": {\"confidence\": float(confidences[box_idx])},\n",
        "                    }\n",
        "                )\n",
        "\n",
        "            wandb_ground_truth_boxes = []\n",
        "            for box_idx in range(len(gt_classes)):\n",
        "                wandb_ground_truth_boxes.append(\n",
        "                    {\n",
        "                        \"position\": {\n",
        "                            \"minX\": int(gt_boxes[box_idx][0]),\n",
        "                            \"minY\": int(gt_boxes[box_idx][1]),\n",
        "                            \"maxX\": int(gt_boxes[box_idx][2]),\n",
        "                            \"maxY\": int(gt_boxes[box_idx][3]),\n",
        "                        },\n",
        "                        \"class_id\": gt_classes[box_idx],\n",
        "                        \"box_caption\": self.class_mapping[int(gt_classes[box_idx])],\n",
        "                        \"domain\": \"pixel\",\n",
        "                    }\n",
        "                )\n",
        "            wandb_image = wandb.Image(\n",
        "                image_batch[idx],\n",
        "                boxes={\n",
        "                    \"ground-truth\": {\n",
        "                        \"box_data\": wandb_ground_truth_boxes,\n",
        "                        \"class_labels\": self.class_mapping,\n",
        "                    },\n",
        "                    \"predictions\": {\n",
        "                        \"box_data\": wandb_prediction_boxes,\n",
        "                        \"class_labels\": self.class_mapping,\n",
        "                    },\n",
        "                },\n",
        "            )\n",
        "            mean_confidence_dict = get_mean_confidence_per_class(\n",
        "                confidences, predicted_classes, self.class_mapping\n",
        "            )\n",
        "            self.table.add_data(epoch, wandb_image, len(gt_classes), mean_confidence_dict)\n",
        "\n",
        "    def on_epoch_end(self, epoch, logs):\n",
        "        original_prediction_decoder = self.model._prediction_decoder\n",
        "        self.model.prediction_decoder = self.prediction_decoder\n",
        "        for _ in tqdm(range(self.max_batches_for_vis)):\n",
        "            image_batch, y_true_batch = next(iter(self.dataset))\n",
        "            self.plot_prediction(epoch, image_batch, y_true_batch)\n",
        "        self.model.prediction_decoder = original_prediction_decoder\n",
        "\n",
        "    def on_train_end(self, logs):\n",
        "        wandb.log({self.title: self.table})"
      ],
      "metadata": {
        "id": "nunPpK9j3rsb"
      },
      "execution_count": 12,
      "outputs": []
    },
    {
      "cell_type": "code",
      "source": [
        "model.fit(\n",
        "    train_ds.take(20),\n",
        "    validation_data=train_ds.take(20),\n",
        "    epochs=3,\n",
        "    callbacks=[\n",
        "        # EvaluateCOCOMetricsCallback(eval_ds.take(20)),\n",
        "        WandbMetricsLogger(log_freq=\"batch\"),\n",
        "        WandBDetectionVisualizationCallback(\n",
        "            dataset=train_ds.take(20), class_mapping=config.class_mapping\n",
        "        ),\n",
        "    ],\n",
        ")"
      ],
      "metadata": {
        "colab": {
          "base_uri": "https://localhost:8080/",
          "height": 365,
          "referenced_widgets": [
            "4e4efab2790e4ae791ec1e7ad90d6591",
            "1a78eed1bb3e436cbd61cb29e2065352",
            "ea308de85b9144bc84354c037bd1ac41",
            "c69cb02deb504b999bd157472fded2c1",
            "e48958a9638f4f1eaed837ca22cbcdfa",
            "7271e2d0dbba45d1be8f05ac6857d766",
            "6c7ddfa0fc924c51b0ea0f052ff00367",
            "7500c2b8190c43c28f79f22547e6b143",
            "ebec714bcf7540baaae26d23e383300b",
            "7ba5300be77a4e039ba5b8172b4e4a46",
            "3fa5f257e70643f4b6359f7aa5d49a1f",
            "35ec3985ae634eddb2f0252a245a2765",
            "395b75245fa64ad38827478d772ee11f",
            "d7f253530029478cbed711503a9c745e",
            "08cf96b55cc2452cbd836d2c4dfd67b2",
            "0eddb2fda7304e528d2266de6fd6f11d",
            "6f4977307d044696862ce7d664650407",
            "e6ff7b2a78064289bf14acbd544d94d0",
            "1f9f603cae0d4c9bad1d4a0b20bf87d4",
            "d8adc2eb48ad40529d6b14521ca3cdc8",
            "34645cd5920145eb9f4edeab67908986",
            "57ef7a12ecee4e1aaf478015504ca18e",
            "6f9951f39e754a33825d19f7dcb4a5f6",
            "c9d3a6dd9b534da89be610b53edf6daa",
            "df72efeb35b543c6b8e747348382edb1",
            "abff98f683af4ff683e469918085914a",
            "64a75928ae764d42b16965919dfd62a1",
            "1bc38abfc9fb481a84b8ccdf47f4ef8e",
            "090aaeca49074d27833f2046b6376a4b",
            "8269d81150ad4c80b0d29f762c7575d7",
            "533e26cb3b7d445fbcdde8c95b29d1bc",
            "aec7be4549cc45449f2cb8c403b5c394",
            "0cdabdba34494c20959bf1ff444e4c1c"
          ]
        },
        "id": "uE0-2MNwhYEd",
        "outputId": "36891e5b-7aa5-435c-f34a-d7b59944954b"
      },
      "execution_count": 13,
      "outputs": [
        {
          "output_type": "stream",
          "name": "stdout",
          "text": [
            "Epoch 1/3\n",
            "20/20 [==============================] - ETA: 0s - loss: 1.8165 - box_loss: 0.6975 - classification_loss: 1.1189 - percent_boxes_matched_with_anchor: 0.9137"
          ]
        },
        {
          "output_type": "display_data",
          "data": {
            "text/plain": [
              "  0%|          | 0/1 [00:00<?, ?it/s]"
            ],
            "application/vnd.jupyter.widget-view+json": {
              "version_major": 2,
              "version_minor": 0,
              "model_id": "4e4efab2790e4ae791ec1e7ad90d6591"
            }
          },
          "metadata": {}
        },
        {
          "output_type": "stream",
          "name": "stdout",
          "text": [
            "1/1 [==============================] - 3s 3s/step\n",
            "20/20 [==============================] - 54s 1s/step - loss: 1.8165 - box_loss: 0.6975 - classification_loss: 1.1189 - percent_boxes_matched_with_anchor: 0.9137 - val_loss: 1.7567 - val_box_loss: 0.6718 - val_classification_loss: 1.0849 - val_percent_boxes_matched_with_anchor: 0.9215\n",
            "Epoch 2/3\n",
            "20/20 [==============================] - ETA: 0s - loss: 1.6547 - box_loss: 0.6541 - classification_loss: 1.0006 - percent_boxes_matched_with_anchor: 0.9238"
          ]
        },
        {
          "output_type": "display_data",
          "data": {
            "text/plain": [
              "  0%|          | 0/1 [00:00<?, ?it/s]"
            ],
            "application/vnd.jupyter.widget-view+json": {
              "version_major": 2,
              "version_minor": 0,
              "model_id": "35ec3985ae634eddb2f0252a245a2765"
            }
          },
          "metadata": {}
        },
        {
          "output_type": "stream",
          "name": "stdout",
          "text": [
            "1/1 [==============================] - 2s 2s/step\n",
            "20/20 [==============================] - 28s 1s/step - loss: 1.6547 - box_loss: 0.6541 - classification_loss: 1.0006 - percent_boxes_matched_with_anchor: 0.9238 - val_loss: 1.6422 - val_box_loss: 0.6613 - val_classification_loss: 0.9808 - val_percent_boxes_matched_with_anchor: 0.9215\n",
            "Epoch 3/3\n",
            "20/20 [==============================] - ETA: 0s - loss: 1.5053 - box_loss: 0.6329 - classification_loss: 0.8724 - percent_boxes_matched_with_anchor: 0.9234"
          ]
        },
        {
          "output_type": "display_data",
          "data": {
            "text/plain": [
              "  0%|          | 0/1 [00:00<?, ?it/s]"
            ],
            "application/vnd.jupyter.widget-view+json": {
              "version_major": 2,
              "version_minor": 0,
              "model_id": "6f9951f39e754a33825d19f7dcb4a5f6"
            }
          },
          "metadata": {}
        },
        {
          "output_type": "stream",
          "name": "stdout",
          "text": [
            "1/1 [==============================] - 3s 3s/step\n",
            "20/20 [==============================] - 28s 1s/step - loss: 1.5053 - box_loss: 0.6329 - classification_loss: 0.8724 - percent_boxes_matched_with_anchor: 0.9234 - val_loss: 1.5662 - val_box_loss: 0.6370 - val_classification_loss: 0.9292 - val_percent_boxes_matched_with_anchor: 0.9219\n"
          ]
        },
        {
          "output_type": "execute_result",
          "data": {
            "text/plain": [
              "<keras.callbacks.History at 0x7910e246f970>"
            ]
          },
          "metadata": {},
          "execution_count": 13
        }
      ]
    },
    {
      "cell_type": "code",
      "source": [
        "wandb.finish()"
      ],
      "metadata": {
        "colab": {
          "base_uri": "https://localhost:8080/",
          "height": 543
        },
        "id": "R0GPnHzBknGN",
        "outputId": "6d102761-de9c-455b-b67e-ce2c9ecf2839"
      },
      "execution_count": 14,
      "outputs": [
        {
          "output_type": "display_data",
          "data": {
            "text/plain": [
              "<IPython.core.display.HTML object>"
            ],
            "text/html": [
              "Waiting for W&B process to finish... <strong style=\"color:green\">(success).</strong>"
            ]
          },
          "metadata": {}
        },
        {
          "output_type": "display_data",
          "data": {
            "text/plain": [
              "<IPython.core.display.HTML object>"
            ],
            "text/html": [
              "<style>\n",
              "    table.wandb td:nth-child(1) { padding: 0 10px; text-align: left ; width: auto;} td:nth-child(2) {text-align: left ; width: 100%}\n",
              "    .wandb-row { display: flex; flex-direction: row; flex-wrap: wrap; justify-content: flex-start; width: 100% }\n",
              "    .wandb-col { display: flex; flex-direction: column; flex-basis: 100%; flex: 1; padding: 10px; }\n",
              "    </style>\n",
              "<div class=\"wandb-row\"><div class=\"wandb-col\"><h3>Run history:</h3><br/><table class=\"wandb\"><tr><td>batch/batch_step</td><td>▁▁▁▁▂▂▂▂▂▃▃▃▃▃▃▄▄▄▄▄▅▅▅▅▅▅▆▆▆▆▆▆▇▇▇▇▇███</td></tr><tr><td>batch/box_loss</td><td>▆██▇▇▇▇▆▆▇▆▆▆▆▃▃▃▃▃▃▃▃▃▃▃▃▃▁▂▂▁▁▁▁▂▁▁▁▂▂</td></tr><tr><td>batch/classification_loss</td><td>█▇▇▇▇▇▇▇▆▆▆▆▆▆▅▅▆▆▅▅▅▅▄▄▄▄▄▃▁▁▁▁▂▂▂▂▂▁▁▁</td></tr><tr><td>batch/learning_rate</td><td>▁▁▁▁▁▁▁▁▁▁▁▁▁▁▁▁▁▁▁▁▁▁▁▁▁▁▁▁▁▁▁▁▁▁▁▁▁▁▁▁</td></tr><tr><td>batch/loss</td><td>███▇▇▇▇▇▇▇▇▇▇▇▅▅▅▅▅▅▅▄▄▄▄▄▄▂▁▁▁▁▁▁▁▂▁▁▁▁</td></tr><tr><td>batch/percent_boxes_matched_with_anchor</td><td>▇▇▄▃▁▁▂▂▁▂▃▃▂▂▇█▇▇▄▄▅▄▃▃▄▄▄▄▃▄▅▆▅▆▄▄▃▃▄▄</td></tr><tr><td>epoch/box_loss</td><td>█▃▁</td></tr><tr><td>epoch/classification_loss</td><td>█▅▁</td></tr><tr><td>epoch/epoch</td><td>▁▅█</td></tr><tr><td>epoch/learning_rate</td><td>▁▁▁</td></tr><tr><td>epoch/loss</td><td>█▄▁</td></tr><tr><td>epoch/percent_boxes_matched_with_anchor</td><td>▁██</td></tr><tr><td>epoch/val_box_loss</td><td>█▆▁</td></tr><tr><td>epoch/val_classification_loss</td><td>█▃▁</td></tr><tr><td>epoch/val_loss</td><td>█▄▁</td></tr><tr><td>epoch/val_percent_boxes_matched_with_anchor</td><td>▁▁█</td></tr></table><br/></div><div class=\"wandb-col\"><h3>Run summary:</h3><br/><table class=\"wandb\"><tr><td>batch/batch_step</td><td>59</td></tr><tr><td>batch/box_loss</td><td>0.63295</td></tr><tr><td>batch/classification_loss</td><td>0.8724</td></tr><tr><td>batch/learning_rate</td><td>0.005</td></tr><tr><td>batch/loss</td><td>1.50535</td></tr><tr><td>batch/percent_boxes_matched_with_anchor</td><td>0.92344</td></tr><tr><td>epoch/box_loss</td><td>0.63295</td></tr><tr><td>epoch/classification_loss</td><td>0.8724</td></tr><tr><td>epoch/epoch</td><td>2</td></tr><tr><td>epoch/learning_rate</td><td>0.005</td></tr><tr><td>epoch/loss</td><td>1.50535</td></tr><tr><td>epoch/percent_boxes_matched_with_anchor</td><td>0.92344</td></tr><tr><td>epoch/val_box_loss</td><td>0.63699</td></tr><tr><td>epoch/val_classification_loss</td><td>0.92922</td></tr><tr><td>epoch/val_loss</td><td>1.5662</td></tr><tr><td>epoch/val_percent_boxes_matched_with_anchor</td><td>0.92188</td></tr></table><br/></div></div>"
            ]
          },
          "metadata": {}
        },
        {
          "output_type": "display_data",
          "data": {
            "text/plain": [
              "<IPython.core.display.HTML object>"
            ],
            "text/html": [
              " View run <strong style=\"color:#cdcd00\">noble-firefly-117</strong> at: <a href='https://wandb.ai/geekyrakshit/keras-cv-callbacks/runs/nrpedu8a' target=\"_blank\">https://wandb.ai/geekyrakshit/keras-cv-callbacks/runs/nrpedu8a</a><br/> View job at <a href='https://wandb.ai/geekyrakshit/keras-cv-callbacks/jobs/QXJ0aWZhY3RDb2xsZWN0aW9uOjkwODc5NjY0/version_details/v25' target=\"_blank\">https://wandb.ai/geekyrakshit/keras-cv-callbacks/jobs/QXJ0aWZhY3RDb2xsZWN0aW9uOjkwODc5NjY0/version_details/v25</a><br/>Synced 5 W&B file(s), 1 media file(s), 27 artifact file(s) and 1 other file(s)"
            ]
          },
          "metadata": {}
        },
        {
          "output_type": "display_data",
          "data": {
            "text/plain": [
              "<IPython.core.display.HTML object>"
            ],
            "text/html": [
              "Find logs at: <code>./wandb/run-20230816_183537-nrpedu8a/logs</code>"
            ]
          },
          "metadata": {}
        }
      ]
    },
    {
      "cell_type": "code",
      "source": [],
      "metadata": {
        "id": "OYY4vndlhTpT"
      },
      "execution_count": 14,
      "outputs": []
    }
  ]
}