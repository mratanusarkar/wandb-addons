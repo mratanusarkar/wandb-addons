{
 "cells": [
  {
   "cell_type": "code",
   "execution_count": null,
   "metadata": {},
   "outputs": [],
   "source": [
    "!pip install --upgrade -q git+https://github.com/keras-team/keras-cv\n",
    "!pip install --upgrade -q git+https://github.com/soumik12345/wandb-addons wandb\n",
    "!pip install -q namex\n",
    "!apt install python3.10-venv\n",
    "!git clone https://github.com/keras-team/keras-core.git && cd keras-core\n",
    "!python pip_build.py --install"
   ]
  },
  {
   "cell_type": "code",
   "execution_count": null,
   "metadata": {},
   "outputs": [],
   "source": [
    "import os\n",
    "\n",
    "os.environ[\"KERAS_BACKEND\"] = \"tensorflow\"\n",
    "\n",
    "import tensorflow as tf\n",
    "import tensorflow_datasets as tfds\n",
    "\n",
    "import keras_cv\n",
    "from keras_cv import visualization\n",
    "\n",
    "import keras_core as keras\n",
    "from keras_core import ops\n",
    "\n",
    "import numpy as np\n",
    "\n",
    "import resource\n",
    "from tqdm.auto import tqdm\n",
    "import matplotlib.pyplot as plt\n",
    "\n",
    "import wandb\n",
    "from wandb_addons.keras.detection import log_predictions_to_wandb"
   ]
  },
  {
   "cell_type": "code",
   "execution_count": null,
   "metadata": {},
   "outputs": [],
   "source": [
    "wandb.init(project=\"keras-cv-callbacks\", entity=\"geekyrakshit\", job_type=\"detection\")\n",
    "\n",
    "config = wandb.config\n",
    "config.model_name = \"retinanet_resnet50_pascalvoc\"\n",
    "config.image_size = 640\n",
    "config.class_ids = [\n",
    "    \"Aeroplane\",\n",
    "    \"Bicycle\",\n",
    "    \"Bird\",\n",
    "    \"Boat\",\n",
    "    \"Bottle\",\n",
    "    \"Bus\",\n",
    "    \"Car\",\n",
    "    \"Cat\",\n",
    "    \"Chair\",\n",
    "    \"Cow\",\n",
    "    \"Dining Table\",\n",
    "    \"Dog\",\n",
    "    \"Horse\",\n",
    "    \"Motorbike\",\n",
    "    \"Person\",\n",
    "    \"Potted Plant\",\n",
    "    \"Sheep\",\n",
    "    \"Sofa\",\n",
    "    \"Train\",\n",
    "    \"Tvmonitor\",\n",
    "    \"Total\",\n",
    "]"
   ]
  },
  {
   "cell_type": "code",
   "execution_count": null,
   "metadata": {},
   "outputs": [],
   "source": [
    "pretrained_model = keras_cv.models.RetinaNet.from_preset(\n",
    "    config.model_name, bounding_box_format=\"xywh\"\n",
    ")"
   ]
  },
  {
   "cell_type": "code",
   "execution_count": null,
   "metadata": {},
   "outputs": [],
   "source": [
    "filepath_1 = keras.utils.get_file(origin=\"https://i.imgur.com/gCNcJJI.jpg\")\n",
    "filepath_2 = keras.utils.get_file(origin=\"https://i.imgur.com/M8LR4fz.png\")\n",
    "\n",
    "image_1 = keras.utils.load_img(filepath_1)\n",
    "image_1 = np.array(image_1)\n",
    "image_2 = keras.utils.load_img(filepath_2)\n",
    "image_2 = np.array(image_2)\n",
    "\n",
    "visualization.plot_image_gallery(\n",
    "    np.array([image_1]),\n",
    "    value_range=(0, 255),\n",
    "    rows=1,\n",
    "    cols=1,\n",
    "    scale=5,\n",
    ")\n",
    "visualization.plot_image_gallery(\n",
    "    np.array([image_2]),\n",
    "    value_range=(0, 255),\n",
    "    rows=1,\n",
    "    cols=1,\n",
    "    scale=5,\n",
    ")"
   ]
  },
  {
   "cell_type": "code",
   "execution_count": null,
   "metadata": {},
   "outputs": [],
   "source": [
    "inference_resizing = keras_cv.layers.Resizing(\n",
    "    config.image_size,\n",
    "    config.image_size,\n",
    "    pad_to_aspect_ratio=True,\n",
    "    bounding_box_format=\"xywh\"\n",
    ")\n",
    "image_1_resized = inference_resizing([image_1])\n",
    "image_2_resized = inference_resizing([image_2])\n",
    "image_batch = ops.concatenate([image_1_resized, image_2_resized], axis=0)\n",
    "image_batch.shape"
   ]
  },
  {
   "cell_type": "code",
   "execution_count": null,
   "metadata": {},
   "outputs": [],
   "source": [
    "class_mapping = dict(zip(range(len(config.class_ids)), config.class_ids))\n",
    "\n",
    "y_pred = pretrained_model.predict(image_batch)\n",
    "\n",
    "log_predictions_to_wandb(image_batch, y_pred, class_mapping)\n",
    "\n",
    "wandb.finish()"
   ]
  }
 ],
 "metadata": {
  "language_info": {
   "name": "python"
  },
  "orig_nbformat": 4
 },
 "nbformat": 4,
 "nbformat_minor": 2
}
