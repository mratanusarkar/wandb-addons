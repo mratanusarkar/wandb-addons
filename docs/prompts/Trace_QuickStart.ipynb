{
 "cells": [
  {
   "cell_type": "code",
   "execution_count": null,
   "metadata": {
    "collapsed": true
   },
   "outputs": [],
   "source": [
    "\n",
    "!pip install -qqq -U openai langchain wandb"
   ]
  },
  {
   "cell_type": "code",
   "execution_count": null,
   "outputs": [],
   "source": [
    "import datetime\n",
    "\n",
    "from langchain.chains import LLMChain\n",
    "from langchain.llms.fake import FakeListLLM\n",
    "from langchain.prompts import PromptTemplate\n",
    "\n",
    "import wandb\n",
    "from wandb_addons.prompts import Trace"
   ],
   "metadata": {
    "collapsed": false
   }
  },
  {
   "cell_type": "code",
   "execution_count": null,
   "outputs": [],
   "source": [
    "PROJECT=\"high_level_trace\""
   ],
   "metadata": {
    "collapsed": false
   }
  },
  {
   "cell_type": "code",
   "execution_count": null,
   "outputs": [],
   "source": [
    "#trace langchain chains\n",
    "run = wandb.init(project=PROJECT)\n",
    "llm = FakeListLLM(responses=[f\"Fake response: {i}\" for i in range(100)])\n",
    "prompt_template = \"What is a good name for a company that makes {product}?\"\n",
    "prompt = PromptTemplate(\n",
    "    input_variables=[\"product\"],\n",
    "    template=prompt_template,\n",
    ")\n",
    "\n",
    "chain = LLMChain(llm=llm, prompt=prompt)\n",
    "\n",
    "for i in range(2):\n",
    "    product = f\"q: {i} - {datetime.datetime.now().timestamp()}\"\n",
    "    start_time_ms = datetime.datetime.now().timestamp() * 1000\n",
    "    response = chain(product)\n",
    "    end_time_ms = datetime.datetime.now().timestamp() * 1000\n",
    "    trace = Trace(name=f\"fake_chain_{i}\",\n",
    "          kind=\"chain\",\n",
    "          status_code=\"success\",\n",
    "          metadata=None,\n",
    "          start_time_ms=start_time_ms,\n",
    "          end_time_ms=end_time_ms,\n",
    "          inputs={\"prompt\":prompt_template.format(product=product)},\n",
    "          outputs={\"response\": response[\"text\"]},\n",
    "          )\n",
    "    trace.log(name=f\"trace_{i}\")\n",
    "run.finish()"
   ],
   "metadata": {
    "collapsed": false
   }
  },
  {
   "cell_type": "code",
   "execution_count": null,
   "outputs": [],
   "source": [
    "\n",
    "from getpass import getpass\n",
    "import openai\n",
    "\n",
    "openai.api_key = getpass(\"Please enter your openai api key\")"
   ],
   "metadata": {
    "collapsed": false
   }
  },
  {
   "cell_type": "code",
   "execution_count": null,
   "outputs": [],
   "source": [
    "# trace openai api calls\n",
    "run = wandb.init(project=PROJECT)\n",
    "request_kwargs = dict(\n",
    "    model=\"gpt-3.5-turbo\",\n",
    "    messages=[\n",
    "        {\"role\": \"system\", \"content\": \"You are a helpful assistant.\"},\n",
    "        {\"role\": \"user\", \"content\": \"Who won the world series in 2020?\"},\n",
    "        {\n",
    "            \"role\": \"assistant\",\n",
    "            \"content\": \"The Los Angeles Dodgers won the World Series in 2020.\",\n",
    "        },\n",
    "        {\"role\": \"user\", \"content\": \"Where was it played?\"},\n",
    "    ],\n",
    ")\n",
    "\n",
    "start_time_ms = datetime.datetime.now().timestamp() * 1000\n",
    "response = openai.ChatCompletion.create(**request_kwargs)\n",
    "end_time_ms = datetime.datetime.now().timestamp() * 1000\n",
    "\n",
    "trace = Trace(\n",
    "    name=f\"openai_chat_completion\",\n",
    "    kind=\"llm\",\n",
    "    status_code=\"success\",\n",
    "    metadata={\"model\": \"gpt-3.5-turbo\"},\n",
    "    start_time_ms=start_time_ms,\n",
    "    end_time_ms=end_time_ms,\n",
    "    inputs={\"messages\":request_kwargs[\"messages\"]},\n",
    "    outputs={\"response\": response.choices[0][\"message\"][\"content\"]},\n",
    ")\n",
    "\n",
    "trace.log(name=f\"openai_trace\")\n",
    "run.finish()"
   ],
   "metadata": {
    "collapsed": false
   }
  }
 ],
 "metadata": {
  "kernelspec": {
   "display_name": "Python 3",
   "language": "python",
   "name": "python3"
  },
  "language_info": {
   "codemirror_mode": {
    "name": "ipython",
    "version": 2
   },
   "file_extension": ".py",
   "mimetype": "text/x-python",
   "name": "python",
   "nbconvert_exporter": "python",
   "pygments_lexer": "ipython2",
   "version": "2.7.6"
  }
 },
 "nbformat": 4,
 "nbformat_minor": 0
}
