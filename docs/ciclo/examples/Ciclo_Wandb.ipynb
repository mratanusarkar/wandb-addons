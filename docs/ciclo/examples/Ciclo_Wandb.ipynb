{
  "nbformat": 4,
  "nbformat_minor": 0,
  "metadata": {
    "colab": {
      "provenance": [],
      "authorship_tag": "ABX9TyOE1CiSXJ3n3Fw/obi4JJQw",
      "include_colab_link": true
    },
    "kernelspec": {
      "name": "python3",
      "display_name": "Python 3"
    },
    "language_info": {
      "name": "python"
    },
    "accelerator": "GPU",
    "gpuClass": "standard",
    "widgets": {
      "application/vnd.jupyter.widget-state+json": {
        "8c98327a050e42ce8bcf44baa15052d5": {
          "model_module": "@jupyter-widgets/controls",
          "model_name": "VBoxModel",
          "model_module_version": "1.5.0",
          "state": {
            "_dom_classes": [],
            "_model_module": "@jupyter-widgets/controls",
            "_model_module_version": "1.5.0",
            "_model_name": "VBoxModel",
            "_view_count": null,
            "_view_module": "@jupyter-widgets/controls",
            "_view_module_version": "1.5.0",
            "_view_name": "VBoxView",
            "box_style": "",
            "children": [
              "IPY_MODEL_068ef574db964268bbcc34f62058d92e",
              "IPY_MODEL_0b96bb26d9864337b8bd234a31cc0e95"
            ],
            "layout": "IPY_MODEL_f4d380fa921e4e79be057995ace8a976"
          }
        },
        "068ef574db964268bbcc34f62058d92e": {
          "model_module": "@jupyter-widgets/controls",
          "model_name": "LabelModel",
          "model_module_version": "1.5.0",
          "state": {
            "_dom_classes": [],
            "_model_module": "@jupyter-widgets/controls",
            "_model_module_version": "1.5.0",
            "_model_name": "LabelModel",
            "_view_count": null,
            "_view_module": "@jupyter-widgets/controls",
            "_view_module_version": "1.5.0",
            "_view_name": "LabelView",
            "description": "",
            "description_tooltip": null,
            "layout": "IPY_MODEL_2a24ef2744a747629eb0cdb5609f2525",
            "placeholder": "​",
            "style": "IPY_MODEL_21055d3414cb428b8abe56f5db89e69d",
            "value": "0.001 MB of 0.001 MB uploaded (0.000 MB deduped)\r"
          }
        },
        "0b96bb26d9864337b8bd234a31cc0e95": {
          "model_module": "@jupyter-widgets/controls",
          "model_name": "FloatProgressModel",
          "model_module_version": "1.5.0",
          "state": {
            "_dom_classes": [],
            "_model_module": "@jupyter-widgets/controls",
            "_model_module_version": "1.5.0",
            "_model_name": "FloatProgressModel",
            "_view_count": null,
            "_view_module": "@jupyter-widgets/controls",
            "_view_module_version": "1.5.0",
            "_view_name": "ProgressView",
            "bar_style": "",
            "description": "",
            "description_tooltip": null,
            "layout": "IPY_MODEL_c43f1e3dd54b4e8887723167c80d87ac",
            "max": 1,
            "min": 0,
            "orientation": "horizontal",
            "style": "IPY_MODEL_4d529c3e6fde4fa4a117b7832f4e54ec",
            "value": 1
          }
        },
        "f4d380fa921e4e79be057995ace8a976": {
          "model_module": "@jupyter-widgets/base",
          "model_name": "LayoutModel",
          "model_module_version": "1.2.0",
          "state": {
            "_model_module": "@jupyter-widgets/base",
            "_model_module_version": "1.2.0",
            "_model_name": "LayoutModel",
            "_view_count": null,
            "_view_module": "@jupyter-widgets/base",
            "_view_module_version": "1.2.0",
            "_view_name": "LayoutView",
            "align_content": null,
            "align_items": null,
            "align_self": null,
            "border": null,
            "bottom": null,
            "display": null,
            "flex": null,
            "flex_flow": null,
            "grid_area": null,
            "grid_auto_columns": null,
            "grid_auto_flow": null,
            "grid_auto_rows": null,
            "grid_column": null,
            "grid_gap": null,
            "grid_row": null,
            "grid_template_areas": null,
            "grid_template_columns": null,
            "grid_template_rows": null,
            "height": null,
            "justify_content": null,
            "justify_items": null,
            "left": null,
            "margin": null,
            "max_height": null,
            "max_width": null,
            "min_height": null,
            "min_width": null,
            "object_fit": null,
            "object_position": null,
            "order": null,
            "overflow": null,
            "overflow_x": null,
            "overflow_y": null,
            "padding": null,
            "right": null,
            "top": null,
            "visibility": null,
            "width": null
          }
        },
        "2a24ef2744a747629eb0cdb5609f2525": {
          "model_module": "@jupyter-widgets/base",
          "model_name": "LayoutModel",
          "model_module_version": "1.2.0",
          "state": {
            "_model_module": "@jupyter-widgets/base",
            "_model_module_version": "1.2.0",
            "_model_name": "LayoutModel",
            "_view_count": null,
            "_view_module": "@jupyter-widgets/base",
            "_view_module_version": "1.2.0",
            "_view_name": "LayoutView",
            "align_content": null,
            "align_items": null,
            "align_self": null,
            "border": null,
            "bottom": null,
            "display": null,
            "flex": null,
            "flex_flow": null,
            "grid_area": null,
            "grid_auto_columns": null,
            "grid_auto_flow": null,
            "grid_auto_rows": null,
            "grid_column": null,
            "grid_gap": null,
            "grid_row": null,
            "grid_template_areas": null,
            "grid_template_columns": null,
            "grid_template_rows": null,
            "height": null,
            "justify_content": null,
            "justify_items": null,
            "left": null,
            "margin": null,
            "max_height": null,
            "max_width": null,
            "min_height": null,
            "min_width": null,
            "object_fit": null,
            "object_position": null,
            "order": null,
            "overflow": null,
            "overflow_x": null,
            "overflow_y": null,
            "padding": null,
            "right": null,
            "top": null,
            "visibility": null,
            "width": null
          }
        },
        "21055d3414cb428b8abe56f5db89e69d": {
          "model_module": "@jupyter-widgets/controls",
          "model_name": "DescriptionStyleModel",
          "model_module_version": "1.5.0",
          "state": {
            "_model_module": "@jupyter-widgets/controls",
            "_model_module_version": "1.5.0",
            "_model_name": "DescriptionStyleModel",
            "_view_count": null,
            "_view_module": "@jupyter-widgets/base",
            "_view_module_version": "1.2.0",
            "_view_name": "StyleView",
            "description_width": ""
          }
        },
        "c43f1e3dd54b4e8887723167c80d87ac": {
          "model_module": "@jupyter-widgets/base",
          "model_name": "LayoutModel",
          "model_module_version": "1.2.0",
          "state": {
            "_model_module": "@jupyter-widgets/base",
            "_model_module_version": "1.2.0",
            "_model_name": "LayoutModel",
            "_view_count": null,
            "_view_module": "@jupyter-widgets/base",
            "_view_module_version": "1.2.0",
            "_view_name": "LayoutView",
            "align_content": null,
            "align_items": null,
            "align_self": null,
            "border": null,
            "bottom": null,
            "display": null,
            "flex": null,
            "flex_flow": null,
            "grid_area": null,
            "grid_auto_columns": null,
            "grid_auto_flow": null,
            "grid_auto_rows": null,
            "grid_column": null,
            "grid_gap": null,
            "grid_row": null,
            "grid_template_areas": null,
            "grid_template_columns": null,
            "grid_template_rows": null,
            "height": null,
            "justify_content": null,
            "justify_items": null,
            "left": null,
            "margin": null,
            "max_height": null,
            "max_width": null,
            "min_height": null,
            "min_width": null,
            "object_fit": null,
            "object_position": null,
            "order": null,
            "overflow": null,
            "overflow_x": null,
            "overflow_y": null,
            "padding": null,
            "right": null,
            "top": null,
            "visibility": null,
            "width": null
          }
        },
        "4d529c3e6fde4fa4a117b7832f4e54ec": {
          "model_module": "@jupyter-widgets/controls",
          "model_name": "ProgressStyleModel",
          "model_module_version": "1.5.0",
          "state": {
            "_model_module": "@jupyter-widgets/controls",
            "_model_module_version": "1.5.0",
            "_model_name": "ProgressStyleModel",
            "_view_count": null,
            "_view_module": "@jupyter-widgets/base",
            "_view_module_version": "1.2.0",
            "_view_name": "StyleView",
            "bar_color": null,
            "description_width": ""
          }
        }
      }
    }
  },
  "cells": [
    {
      "cell_type": "markdown",
      "metadata": {
        "id": "view-in-github",
        "colab_type": "text"
      },
      "source": [
        "<a href=\"https://colab.research.google.com/github/soumik12345/wandb-addons/blob/docs/docs/ciclo/examples/Ciclo_Wandb.ipynb\" target=\"_parent\"><img src=\"https://colab.research.google.com/assets/colab-badge.svg\" alt=\"Open In Colab\"/></a>"
      ]
    },
    {
      "cell_type": "code",
      "source": [
        "!pip install -q ciclo tensorflow-cpu wandb"
      ],
      "metadata": {
        "id": "5DESiLzjPppi"
      },
      "execution_count": null,
      "outputs": []
    },
    {
      "cell_type": "code",
      "execution_count": null,
      "metadata": {
        "id": "FP0Gz_fHcbjT"
      },
      "outputs": [],
      "source": [
        "from pathlib import Path\n",
        "from time import time\n",
        "from typing import Optional, Callable\n",
        "from collections.abc import MutableMapping\n",
        "\n",
        "import flax.linen as nn\n",
        "import jax.numpy as jnp\n",
        "import jax_metrics as jm\n",
        "import matplotlib.pyplot as plt\n",
        "import optax\n",
        "import tensorflow as tf\n",
        "import tensorflow_datasets as tfds\n",
        "\n",
        "import ciclo\n",
        "from ciclo.logging import Logs\n",
        "from ciclo.types import Batch, S\n",
        "from ciclo.timetracking import Elapsed\n",
        "from ciclo.loops.loop import LoopCallbackBase\n",
        "from ciclo.callbacks import LoopState, CallbackOutput\n",
        "\n",
        "import wandb"
      ]
    },
    {
      "cell_type": "code",
      "source": [
        "wandb.init(project=\"ciclo-integration\", entity=\"geekyrakshit\", job_type=\"test\")"
      ],
      "metadata": {
        "colab": {
          "base_uri": "https://localhost:8080/",
          "height": 144
        },
        "id": "XYSS_vfRm9pA",
        "outputId": "242cc357-fa7d-482a-fada-6dc024292b98"
      },
      "execution_count": null,
      "outputs": [
        {
          "output_type": "stream",
          "name": "stderr",
          "text": [
            "\u001b[34m\u001b[1mwandb\u001b[0m: Currently logged in as: \u001b[33mgeekyrakshit\u001b[0m. Use \u001b[1m`wandb login --relogin`\u001b[0m to force relogin\n"
          ]
        },
        {
          "output_type": "display_data",
          "data": {
            "text/plain": [
              "<IPython.core.display.HTML object>"
            ],
            "text/html": [
              "Tracking run with wandb version 0.14.0"
            ]
          },
          "metadata": {}
        },
        {
          "output_type": "display_data",
          "data": {
            "text/plain": [
              "<IPython.core.display.HTML object>"
            ],
            "text/html": [
              "Run data is saved locally in <code>/content/wandb/run-20230404_123404-qgbdrnym</code>"
            ]
          },
          "metadata": {}
        },
        {
          "output_type": "display_data",
          "data": {
            "text/plain": [
              "<IPython.core.display.HTML object>"
            ],
            "text/html": [
              "Syncing run <strong><a href='https://wandb.ai/geekyrakshit/ciclo-integration/runs/qgbdrnym' target=\"_blank\">lucky-shape-8</a></strong> to <a href='https://wandb.ai/geekyrakshit/ciclo-integration' target=\"_blank\">Weights & Biases</a> (<a href='https://wandb.me/run' target=\"_blank\">docs</a>)<br/>"
            ]
          },
          "metadata": {}
        },
        {
          "output_type": "display_data",
          "data": {
            "text/plain": [
              "<IPython.core.display.HTML object>"
            ],
            "text/html": [
              " View project at <a href='https://wandb.ai/geekyrakshit/ciclo-integration' target=\"_blank\">https://wandb.ai/geekyrakshit/ciclo-integration</a>"
            ]
          },
          "metadata": {}
        },
        {
          "output_type": "display_data",
          "data": {
            "text/plain": [
              "<IPython.core.display.HTML object>"
            ],
            "text/html": [
              " View run at <a href='https://wandb.ai/geekyrakshit/ciclo-integration/runs/qgbdrnym' target=\"_blank\">https://wandb.ai/geekyrakshit/ciclo-integration/runs/qgbdrnym</a>"
            ]
          },
          "metadata": {}
        },
        {
          "output_type": "execute_result",
          "data": {
            "text/html": [
              "<button onClick=\"this.nextSibling.style.display='block';this.style.display='none';\">Display W&B run</button><iframe src='https://wandb.ai/geekyrakshit/ciclo-integration/runs/qgbdrnym?jupyter=true' style='border:none;width:100%;height:420px;display:none;'></iframe>"
            ],
            "text/plain": [
              "<wandb.sdk.wandb_run.Run at 0x7f4d113b9dc0>"
            ]
          },
          "metadata": {},
          "execution_count": 4
        }
      ]
    },
    {
      "cell_type": "code",
      "source": [
        "batch_size = 32\n",
        "total_samples = 32 * 100\n",
        "total_steps = total_samples // batch_size\n",
        "steps_per_epoch = total_steps // 10\n",
        "test_steps = 10"
      ],
      "metadata": {
        "id": "wNJDOV_Ie-Ny"
      },
      "execution_count": null,
      "outputs": []
    },
    {
      "cell_type": "code",
      "source": [
        "# load the MNIST dataset\n",
        "ds_train: tf.data.Dataset = tfds.load(\"mnist\", split=\"train\", shuffle_files=True)\n",
        "ds_train = ds_train.map(lambda x: (x[\"image\"], x[\"label\"]))\n",
        "ds_train = ds_train.repeat().shuffle(1024).batch(batch_size).prefetch(1)\n",
        "ds_test: tf.data.Dataset = tfds.load(\"mnist\", split=\"test\")\n",
        "ds_test = ds_test.map(lambda x: (x[\"image\"], x[\"label\"]))  # .take(10)\n",
        "ds_test = ds_test.batch(32, drop_remainder=True).prefetch(1)"
      ],
      "metadata": {
        "id": "2bXQulxtfsiZ"
      },
      "execution_count": null,
      "outputs": []
    },
    {
      "cell_type": "code",
      "source": [
        "# Define model\n",
        "class Linear(nn.Module):\n",
        "    @nn.compact\n",
        "    def __call__(self, x):\n",
        "        x = x / 255.0\n",
        "        x = x.reshape((x.shape[0], -1))  # flatten\n",
        "        x = nn.Dense(features=10)(x)\n",
        "        return x"
      ],
      "metadata": {
        "id": "LURj-DEFfvTV"
      },
      "execution_count": null,
      "outputs": []
    },
    {
      "cell_type": "code",
      "source": [
        "# Initialize state\n",
        "model = Linear()\n",
        "state = ciclo.create_flax_state(\n",
        "    model,\n",
        "    inputs=jnp.empty((1, 28, 28, 1)),\n",
        "    tx=optax.adamw(1e-3),\n",
        "    losses={\"loss\": jm.losses.Crossentropy()},\n",
        "    metrics={\"accuracy\": jm.metrics.Accuracy()},\n",
        "    strategy=\"jit\",\n",
        ")"
      ],
      "metadata": {
        "id": "O7ruIYgqfwIJ"
      },
      "execution_count": null,
      "outputs": []
    },
    {
      "cell_type": "code",
      "source": [
        "state, history, _ = ciclo.train_loop(\n",
        "    state,\n",
        "    ds_train.as_numpy_iterator(),\n",
        "    callbacks=[\n",
        "        ciclo.keras_bar(total=total_steps),\n",
        "        ciclo.checkpoint(\n",
        "            f\"logdir/checkpoint/{int(time())}\",\n",
        "            monitor=\"accuracy_test\",\n",
        "            mode=\"max\",\n",
        "        ),\n",
        "        ciclo.wandb_logger(),\n",
        "    ],\n",
        "    test_dataset=lambda: ds_test.as_numpy_iterator(),\n",
        "    epoch_duration=steps_per_epoch,\n",
        "    test_duration=test_steps,\n",
        "    stop=total_steps,\n",
        ")"
      ],
      "metadata": {
        "colab": {
          "base_uri": "https://localhost:8080/"
        },
        "id": "lLZPK5rLfyr5",
        "outputId": "d4f66e06-8e08-4f84-fbc7-fe905280620f"
      },
      "execution_count": null,
      "outputs": [
        {
          "output_type": "stream",
          "name": "stdout",
          "text": [
            " 98/100 [============================>.] - ETA: 0s - accuracy: 0.8203 - avg_loss: 0.9143 - accuracy_test: 0.8531 - avg_loss_test: 0.9007"
          ]
        }
      ]
    },
    {
      "cell_type": "code",
      "source": [
        "wandb.finish()"
      ],
      "metadata": {
        "colab": {
          "base_uri": "https://localhost:8080/",
          "height": 377,
          "referenced_widgets": [
            "8c98327a050e42ce8bcf44baa15052d5",
            "068ef574db964268bbcc34f62058d92e",
            "0b96bb26d9864337b8bd234a31cc0e95",
            "f4d380fa921e4e79be057995ace8a976",
            "2a24ef2744a747629eb0cdb5609f2525",
            "21055d3414cb428b8abe56f5db89e69d",
            "c43f1e3dd54b4e8887723167c80d87ac",
            "4d529c3e6fde4fa4a117b7832f4e54ec"
          ]
        },
        "id": "WTyfMHGCgADU",
        "outputId": "8631a2bf-18ce-4538-de64-7eb7a982cd3c"
      },
      "execution_count": null,
      "outputs": [
        {
          "output_type": "display_data",
          "data": {
            "text/plain": [
              "<IPython.core.display.HTML object>"
            ],
            "text/html": [
              "Waiting for W&B process to finish... <strong style=\"color:green\">(success).</strong>"
            ]
          },
          "metadata": {}
        },
        {
          "output_type": "display_data",
          "data": {
            "text/plain": [
              "VBox(children=(Label(value='0.001 MB of 0.001 MB uploaded (0.000 MB deduped)\\r'), FloatProgress(value=1.0, max…"
            ],
            "application/vnd.jupyter.widget-view+json": {
              "version_major": 2,
              "version_minor": 0,
              "model_id": "8c98327a050e42ce8bcf44baa15052d5"
            }
          },
          "metadata": {}
        },
        {
          "output_type": "display_data",
          "data": {
            "text/plain": [
              "<IPython.core.display.HTML object>"
            ],
            "text/html": [
              "<style>\n",
              "    table.wandb td:nth-child(1) { padding: 0 10px; text-align: left ; width: auto;} td:nth-child(2) {text-align: left ; width: 100%}\n",
              "    .wandb-row { display: flex; flex-direction: row; flex-wrap: wrap; justify-content: flex-start; width: 100% }\n",
              "    .wandb-col { display: flex; flex-direction: column; flex-basis: 100%; flex: 1; padding: 10px; }\n",
              "    </style>\n",
              "<div class=\"wandb-row\"><div class=\"wandb-col\"><h3>Run history:</h3><br/><table class=\"wandb\"><tr><td>losses/loss</td><td>█▇▆▄▄▃▂▃▂▁</td></tr><tr><td>losses/loss_test</td><td>█▇▅▄▃▃▂▂▁▁</td></tr><tr><td>stateful_metrics/accuracy</td><td>▁▃▄▆▇▇████</td></tr><tr><td>stateful_metrics/accuracy_test</td><td>▁▄▅▇▇▇████</td></tr><tr><td>stateful_metrics/avg_loss</td><td>█▇▆▅▃▃▂▂▁▁</td></tr><tr><td>stateful_metrics/avg_loss_test</td><td>█▆▅▄▃▃▂▂▁▁</td></tr></table><br/></div><div class=\"wandb-col\"><h3>Run summary:</h3><br/><table class=\"wandb\"><tr><td>losses/loss</td><td>0.88331</td></tr><tr><td>losses/loss_test</td><td>0.8979</td></tr><tr><td>stateful_metrics/accuracy</td><td>0.79375</td></tr><tr><td>stateful_metrics/accuracy_test</td><td>0.85312</td></tr><tr><td>stateful_metrics/avg_loss</td><td>0.98475</td></tr><tr><td>stateful_metrics/avg_loss_test</td><td>0.90071</td></tr></table><br/></div></div>"
            ]
          },
          "metadata": {}
        },
        {
          "output_type": "display_data",
          "data": {
            "text/plain": [
              "<IPython.core.display.HTML object>"
            ],
            "text/html": [
              " View run <strong style=\"color:#cdcd00\">lucky-shape-8</strong> at: <a href='https://wandb.ai/geekyrakshit/ciclo-integration/runs/qgbdrnym' target=\"_blank\">https://wandb.ai/geekyrakshit/ciclo-integration/runs/qgbdrnym</a><br/>Synced 5 W&B file(s), 0 media file(s), 0 artifact file(s) and 0 other file(s)"
            ]
          },
          "metadata": {}
        },
        {
          "output_type": "display_data",
          "data": {
            "text/plain": [
              "<IPython.core.display.HTML object>"
            ],
            "text/html": [
              "Find logs at: <code>./wandb/run-20230404_123404-qgbdrnym/logs</code>"
            ]
          },
          "metadata": {}
        }
      ]
    }
  ]
}